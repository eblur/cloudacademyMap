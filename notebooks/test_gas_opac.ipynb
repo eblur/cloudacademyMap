{
 "cells": [
  {
   "cell_type": "code",
   "execution_count": 1,
   "metadata": {},
   "outputs": [],
   "source": [
    "import numpy as np\n",
    "import h5py\n",
    "from scipy.ndimage import gaussian_filter1d as gauss_conv\n",
    "from numba.decorators import jit\n",
    "import matplotlib.pyplot as plt\n",
    "from matplotlib.ticker import MultipleLocator, FormatStrFormatter\n",
    "\n",
    "%matplotlib inline"
   ]
  },
  {
   "cell_type": "code",
   "execution_count": 2,
   "metadata": {},
   "outputs": [
    {
     "name": "stdout",
     "output_type": "stream",
     "text": [
      "/Users/lia/dev/cloudacademyMap/gas_opac\n"
     ]
    }
   ],
   "source": [
    "cd ~/dev/cloudacademyMap/gas_opac/"
   ]
  },
  {
   "cell_type": "code",
   "execution_count": 3,
   "metadata": {},
   "outputs": [],
   "source": [
    "import opacity_demo as demo"
   ]
  },
  {
   "cell_type": "code",
   "execution_count": 4,
   "metadata": {},
   "outputs": [
    {
     "name": "stdout",
     "output_type": "stream",
     "text": [
      "Reading opacity database file\n",
      "H2O done\n",
      "CH4 done\n",
      "NH3 done\n",
      "HCN done\n",
      "CO done\n",
      "CO2 done\n"
     ]
    }
   ],
   "source": [
    "# Specify which molecules you want to extract from the database (full list available in the readme)\n",
    "chemical_species = np.array(['H2O', 'CH4', 'NH3', 'HCN', 'CO', 'CO2'])\n",
    "\n",
    "# At what temperature and pressure do you desire the cross sections?\n",
    "P = 1.0e-3    # Pressure (bar)\n",
    "T = 1000.0    # Temperature (K)        \n",
    "\n",
    "# Specify wavelength grid to extract cross section onto\n",
    "wl_min = 0.4  # Minimum wavelength of grid (micron)\n",
    "wl_max = 5.0  # Maximum wavelength of grid (micron)\n",
    "N_wl = 1000   # Number of wavelength points\n",
    "\n",
    "wl = np.linspace(wl_min, wl_max, N_wl)  # Uniform grid used here for demonstration purposes   \n",
    "\n",
    "# Either sample the nearest wavelength points from the high resolution (R~10^6) cross section database or use an averaging prescription \n",
    "opacity_treatment = 'Log-avg'           # Options: Opacity-sample / Log-avg\n",
    "#opacity_treatment = 'Opacity-sample'   # Opacity sampling is faster, but for low-resolution wavelength grids log averaging is recommended\n",
    "  \n",
    "# Extract desired cross sections from the database\n",
    "cross_sections = demo.Extract_opacity(chemical_species, P, T, wl, opacity_treatment)   # Format: np array(N_species, N_wl) / Units: (m^2 / species)"
   ]
  },
  {
   "cell_type": "code",
   "execution_count": 5,
   "metadata": {},
   "outputs": [],
   "source": [
    "# Example: seperate H2O cross section, and print to terminal\n",
    "H2O_cross_section = cross_sections['H2O']    # Format: np array(N_wl) / Units: (m^2 / molecule)\n",
    "#print (H2O_cross_section)"
   ]
  },
  {
   "cell_type": "code",
   "execution_count": 6,
   "metadata": {},
   "outputs": [],
   "source": [
    "# Copy/paste plot function from opacity_demo.py because I'm getting some weird errors\n",
    "\n",
    "def plot_opacity(chemical_species, sigma_stored, P, T, wl_grid, **kwargs):\n",
    "\n",
    "    # Max number of species this can plot is 9 (clustered beyond that!)                                                                                                  \n",
    "\n",
    "    # Optional smoothing of cross sections (can improve clarity)                                                                                                         \n",
    "    smooth = False\n",
    "    smooth_factor = 5\n",
    "\n",
    "    # Specify cross sections to plot, along with colours for each                                                                                                        \n",
    "    #colours_plot = np.array(['royalblue', 'purple', 'crimson', 'orange', 'black', 'grey', 'green', 'magenta', 'chocolate'])                                             \n",
    "\n",
    "    # Initialise plot                                                                                                                                                    \n",
    "    #ax = plt.gca()\n",
    "    #ax.set_xscale(\"log\")                                                                                                                                                \n",
    "\n",
    "    ax = plt.subplot(111)\n",
    "    #xmajorLocator   = MultipleLocator(1.0)\n",
    "    #xmajorFormatter = FormatStrFormatter('%.1f')\n",
    "    #xminorLocator   = MultipleLocator(0.2)\n",
    "\n",
    "    #ax.xaxis.set_major_locator(xmajorLocator)\n",
    "    #ax.xaxis.set_major_formatter(xmajorFormatter)\n",
    "    #ax.xaxis.set_minor_locator(xminorLocator)\n",
    "\n",
    "    # Plot each cross section                                                                                                                                            \n",
    "    for species in chemical_species:\n",
    "        #species_idx = np.where(chemical_species == species)[0][0]\n",
    "        sigma_plt = sigma_stored[species]*1.0e4   # Cross section of species q at given (P,T) pair (cm^2)                                                          \n",
    "\n",
    "        if (smooth == True):\n",
    "            sigma_plt = gauss_conv(sigma_plt, sigma=smooth_factor, mode='nearest')\n",
    "\n",
    "        # Plot cross section                                                                                                                                             \n",
    "        plt.semilogy(wl_grid, sigma_plt, label = species, **kwargs)\n",
    "\n",
    "    plt.ylim([1.0e-28, 2.0e-18])\n",
    "    plt.xlim([min(wl_grid), max(wl_grid)])\n",
    "    plt.ylabel(r'$\\mathrm{Cross \\, \\, Section \\, \\, (cm^{2})}$', fontsize = 15)\n",
    "    plt.xlabel(r'$\\mathrm{Wavelength} \\; \\mathrm{(\\mu m)}$', fontsize = 15)\n",
    "\n",
    "    ax.text(min(wl_grid)*1.05, 6.0e-19, (r'$\\mathrm{T = }$' + str(T) + r'$\\mathrm{K \\, \\, P = }$' + str(P*1000) + r'$\\mathrm{mbar}$'), fontsize = 14)\n",
    "\n",
    "    legend = plt.legend(loc='upper right', frameon=False, prop={'size':6}, ncol=2)\n",
    "\n",
    "    '''for legline in legend.legendHandles:\n",
    "        legline.set_linewidth(1.0)'''\n",
    "    return"
   ]
  },
  {
   "cell_type": "code",
   "execution_count": 7,
   "metadata": {},
   "outputs": [
    {
     "data": {
      "image/png": "[encoded data removed]",
      "text/plain": [
       "<Figure size 432x288 with 1 Axes>"
      ]
     },
     "metadata": {
      "needs_background": "light"
     },
     "output_type": "display_data"
    }
   ],
   "source": [
    "# Plot cross sections\n",
    "plot_opacity(chemical_species, cross_sections, P, T, wl, lw=0.5, alpha=0.8)"
   ]
  },
  {
   "cell_type": "markdown",
   "metadata": {},
   "source": [
    "## Grab all the opacities possible\n",
    "\n",
    "Based on gases present both in Ryan's library and in the static weather output."
   ]
  },
  {
   "cell_type": "code",
   "execution_count": null,
   "metadata": {},
   "outputs": [],
   "source": [
    "# Grabbed from Readme.txt\n",
    "RMcD_gas = np.array(['H3+', 'Na', 'K', 'Li', 'Rb', 'Cs', 'H2', 'H2O', 'CH4', 'NH3', 'HCN', 'CO', \\\n",
    "                     'CO2', 'C2H2', 'H2S', 'N2', 'O2', 'O3', 'OH', 'NO', 'SO2', 'PH3', 'TiO', 'VO', \\\n",
    "                     'ALO', 'SiO', 'CaO', 'TiH', 'CrH', 'FeH', 'ScH', 'AlH', 'SiH', 'BeH', 'CaH', \\\n",
    "                     'MgH', 'LiH', 'SiH', 'CH', 'SH', 'NH'])\n",
    "\n",
    "RMcD_gas_upper = np.array([g.upper() for g in RMcD_gas])"
   ]
  },
  {
   "cell_type": "code",
   "execution_count": null,
   "metadata": {},
   "outputs": [],
   "source": [
    "np.array(RMcD_gas_upper) == 'TIO'"
   ]
  },
  {
   "cell_type": "code",
   "execution_count": null,
   "metadata": {},
   "outputs": [],
   "source": [
    "cd .."
   ]
  },
  {
   "cell_type": "code",
   "execution_count": null,
   "metadata": {},
   "outputs": [],
   "source": [
    "from maplib import load_out3"
   ]
  },
  {
   "cell_type": "code",
   "execution_count": null,
   "metadata": {},
   "outputs": [],
   "source": [
    "cd ~/Dropbox/Science/cloud-academy/Les_Houches_Cloud_Activity/"
   ]
  },
  {
   "cell_type": "code",
   "execution_count": null,
   "metadata": {},
   "outputs": [],
   "source": [
    "# An example file to work from. I hope all of the reported columns are the same\n",
    "PHI, THETA = -180, 0\n",
    "\n",
    "# Get gas information\n",
    "thermo = load_out3('thermo', PHI, THETA)\n",
    "\n",
    "# Get wavelengths for later\n",
    "wavel = load_out3('wavel', PHI, THETA)"
   ]
  },
  {
   "cell_type": "code",
   "execution_count": null,
   "metadata": {},
   "outputs": [],
   "source": [
    "thermo_gas = []\n",
    "for k in thermo.keys():\n",
    "    x = k.split('n_')\n",
    "    if len(x) == 2:\n",
    "        thermo_gas.append(x[1])\n",
    "print(thermo_gas)"
   ]
  },
  {
   "cell_type": "code",
   "execution_count": null,
   "metadata": {},
   "outputs": [],
   "source": [
    "# Gases in static_weather model that are also in Ryan's opacity library\n",
    "gases, gases_missing = [], []\n",
    "for g in thermo_gas:\n",
    "    if g in RMcD_gas_upper:\n",
    "        ig = np.where(RMcD_gas_upper == g)[0]\n",
    "        gases.append(RMcD_gas[ig][0])\n",
    "    else:\n",
    "        gases_missing.append(g)"
   ]
  },
  {
   "cell_type": "code",
   "execution_count": null,
   "metadata": {},
   "outputs": [],
   "source": [
    "print(\"Gases in both static_weather and Ryan's opacity library: ({} total)\".format(len(gases)))\n",
    "print(gases)\n",
    "print(\"\\nGases missing opacities: ({} total)\".format(len(gases_missing)))\n",
    "print(gases_missing)"
   ]
  },
  {
   "cell_type": "code",
   "execution_count": null,
   "metadata": {},
   "outputs": [],
   "source": [
    "cd ~/dev/cloudacademyMap/gas_opac"
   ]
  },
  {
   "cell_type": "markdown",
   "metadata": {},
   "source": [
    "**Takes a few minutes to read in**"
   ]
  },
  {
   "cell_type": "code",
   "execution_count": null,
   "metadata": {},
   "outputs": [],
   "source": [
    "%%time\n",
    "sw_xsects = demo.Extract_opacity(np.array(gases), P, T, wavel, opacity_treatment)"
   ]
  },
  {
   "cell_type": "code",
   "execution_count": null,
   "metadata": {},
   "outputs": [],
   "source": [
    "plot_opacity(np.array(gases), sw_xsects, P, T, wavel, marker='o', ls=':', alpha=0.5)\n",
    "plt.semilogx()\n",
    "plt.xlim(0.2, 330)"
   ]
  },
  {
   "cell_type": "code",
   "execution_count": null,
   "metadata": {},
   "outputs": [],
   "source": [
    "len(thermo['p'])"
   ]
  },
  {
   "cell_type": "markdown",
   "metadata": {},
   "source": [
    "## To do next\n",
    "\n",
    "* Load opacities for different temperatures. Interpolate densities in each vertical profile to match the temperatures provided in the code.\n",
    "\n",
    "* Calculate dtau_dz for each element and vertical profile.\n",
    "\n",
    "* Save the dtau_dz profiles to a file.\n",
    "\n",
    "* Add those dtau_dz values to the atmosphere depth calculation."
   ]
  },
  {
   "cell_type": "markdown",
   "metadata": {},
   "source": [
    "## Look at densities as a function of temperature"
   ]
  },
  {
   "cell_type": "code",
   "execution_count": null,
   "metadata": {},
   "outputs": [],
   "source": [
    "for g in gases:\n",
    "    plt.plot(thermo['T'], thermo['n_' + g.upper()])\n",
    "plt.semilogy()\n",
    "plt.xlim(500, 3000)"
   ]
  },
  {
   "cell_type": "code",
   "execution_count": null,
   "metadata": {},
   "outputs": [],
   "source": [
    "# Sanity check for pressure, temperature interpolation\n",
    "# Suggested by Ryan\n",
    "\n",
    "T0 = [100, 200, 300, 400, 500, 600, 700, 800, 900, 1000, 1200, 1400, 1600, 1800, 2000, 2500, 3000, 3500]\n",
    "T1 = np.arange(100, 3000, 50)"
   ]
  },
  {
   "cell_type": "code",
   "execution_count": null,
   "metadata": {},
   "outputs": [],
   "source": [
    "test_T0 = demo.Extract_opacity(np.array([gases[0]]), P, T0, wavel, opacity_treatment)"
   ]
  }
 ],
 "metadata": {
  "kernelspec": {
   "display_name": "cloud-academy",
   "language": "python",
   "name": "cloud-academy"
  },
  "language_info": {
   "codemirror_mode": {
    "name": "ipython",
    "version": 3
   },
   "file_extension": ".py",
   "mimetype": "text/x-python",
   "name": "python",
   "nbconvert_exporter": "python",
   "pygments_lexer": "ipython3",
   "version": "3.6.6"
  }
 },
 "nbformat": 4,
 "nbformat_minor": 2
}
